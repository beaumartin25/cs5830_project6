{
 "cells": [
  {
   "cell_type": "markdown",
   "id": "54e0850c-d705-4715-898c-4c397dd4917c",
   "metadata": {},
   "source": [
    "#### Project 6 Linear Regression\n",
    "## Beau Martin & Joshua Christensen\n"
   ]
  },
  {
   "cell_type": "code",
   "execution_count": null,
   "id": "b4aaae4b-7cbb-4496-9c94-d7609b9cd698",
   "metadata": {},
   "outputs": [],
   "source": [
    "# imports\n",
    "import pandas as pd\n",
    "import matplotlib.pyplot as plt\n",
    "import seaborn as sns\n",
    "from sklearn.linear_model import LinearRegression\n",
    "import statsmodels.formula.api as smf"
   ]
  },
  {
   "cell_type": "code",
   "execution_count": null,
   "id": "d7620082",
   "metadata": {},
   "outputs": [],
   "source": [
    "df = pd.read_csv('data/RRCA_baseflow.csv')\n",
    "df['Date'] = df['Date'] - 693963\n",
    "df"
   ]
  },
  {
   "cell_type": "code",
   "execution_count": null,
   "id": "62d21997",
   "metadata": {},
   "outputs": [],
   "source": [
    "# Number of segmant ids\n",
    "df['Segment_id'].nunique()"
   ]
  },
  {
   "cell_type": "code",
   "execution_count": null,
   "id": "bf7742b8",
   "metadata": {},
   "outputs": [],
   "source": [
    "fig, axs = plt.subplots(nrows=3, ncols=1, sharey=True, figsize=(16, 24)) \n",
    "\n",
    "df.plot(kind='scatter', x='Evapotranspiration', y='Observed', ax=axs[0])\n",
    "df.plot(kind='scatter', x='Precipitation', y='Observed', ax=axs[1])\n",
    "df.plot(kind='scatter', x='Irrigation_pumping', y='Observed', ax=axs[2])\n",
    "\n",
    "plt.tight_layout() \n",
    "plt.show()"
   ]
  },
  {
   "cell_type": "markdown",
   "id": "b0849563",
   "metadata": {},
   "source": [
    "### Does precipitation have an affect on baseflow?"
   ]
  },
  {
   "cell_type": "code",
   "execution_count": null,
   "id": "ee31f7e6",
   "metadata": {},
   "outputs": [],
   "source": [
    "print(df['Precipitation'].max())\n",
    "\n",
    "df[df['Precipitation'] == 40.38]"
   ]
  },
  {
   "cell_type": "code",
   "execution_count": null,
   "id": "2a267de3",
   "metadata": {},
   "outputs": [],
   "source": [
    "# Looking at segment 171 because it had the highest ever precipiation\n",
    "df_171 = df[df['Segment_id'] == 171]\n",
    "df_171 = df_171[df_171['Precipitation'] != 0]\n",
    "print(df_171['Date'].nunique())\n",
    "df_171"
   ]
  },
  {
   "cell_type": "code",
   "execution_count": null,
   "id": "c3dc1fb9",
   "metadata": {},
   "outputs": [],
   "source": [
    "df_171.plot(kind='scatter', x='Date', y='Precipitation')\n"
   ]
  },
  {
   "cell_type": "code",
   "execution_count": null,
   "id": "ea1b6516",
   "metadata": {},
   "outputs": [],
   "source": [
    "df_171.plot(kind='scatter', x='Precipitation', y='Observed')"
   ]
  },
  {
   "cell_type": "code",
   "execution_count": null,
   "id": "12a95935",
   "metadata": {},
   "outputs": [],
   "source": [
    "# create X and y\n",
    "feature_cols = ['Precipitation']\n",
    "X = df_171[feature_cols]\n",
    "y = df_171.Observed\n",
    "\n",
    "# follow the usual sklearn pattern: import, instantiate, fit\n",
    "lm = LinearRegression()\n",
    "lm.fit(X, y)\n",
    "\n",
    "# print intercept and coefficients\n",
    "print(lm.intercept_)\n",
    "print(lm.coef_)"
   ]
  },
  {
   "cell_type": "code",
   "execution_count": null,
   "id": "fef55590",
   "metadata": {},
   "outputs": [],
   "source": [
    "sns.regplot(x='Precipitation', y='Observed', data=df_171)"
   ]
  },
  {
   "cell_type": "code",
   "execution_count": null,
   "id": "21868669",
   "metadata": {},
   "outputs": [],
   "source": [
    "lm = smf.ols(formula='Observed ~ Precipitation', data=df_171).fit()\n",
    "# print the p-values for the model coefficients\n",
    "lm.pvalues"
   ]
  },
  {
   "cell_type": "markdown",
   "id": "a0f92182-5a73-4b4b-b23f-ff36991c57e3",
   "metadata": {},
   "source": [
    "### Next Part"
   ]
  },
  {
   "cell_type": "code",
   "execution_count": null,
   "id": "a1e21750-6613-49c6-a083-414d2f241e3c",
   "metadata": {},
   "outputs": [],
   "source": [
    "df = pd.read_csv('data/RRCA_baseflow.csv')\n",
    "df['Date'] = df['Date'] - 693963\n",
    "\n",
    "df[df['Irrigation_pumping'] == df.Irrigation_pumping.min()]\n",
    "\n",
    "newDf = df[df['Segment_id'] == 59]\n",
    "newDf = newDf[newDf['Irrigation_pumping'] < 0]\n",
    "newDf.plot(kind='scatter', x='Irrigation_pumping', y='Observed')\n",
    "\n",
    "\n",
    "# Perform a new Linear Regression Analysis\n",
    "lm = LinearRegression()\n",
    "x = [newDf['Irrigation_pumping']]\n",
    "y = [newDf.Observed]\n",
    "lm.fit(x, y)\n",
    "\n",
    "sns.regplot(x='Irrigation_pumping', y='Observed', data=newDf)\n",
    "\n",
    "lm = smf.ols(formula='Observed ~ Irrigation_pumping', data=newDf).fit()\n",
    "print(lm.pvalues)"
   ]
  },
  {
   "cell_type": "code",
   "execution_count": null,
   "id": "a1be1145-0f80-449f-99aa-ed2a8768251c",
   "metadata": {},
   "outputs": [],
   "source": [
    "df = pd.read_csv('data/RRCA_baseflow.csv')\n",
    "df['Date'] = df['Date'] - 693963\n",
    "\n",
    "df[df['Evapotranspiration'] == df.Evapotranspiration.min()]\n",
    "\n",
    "newDf = df[df['Segment_id'] == 144]\n",
    "newDf.plot(kind='scatter', x='Evapotranspiration', y='Observed')\n",
    "\n",
    "\n",
    "# Perform a new Linear Regression Analysis\n",
    "lm = LinearRegression()\n",
    "x = [newDf['Evapotranspiration']]\n",
    "y = [newDf.Observed]\n",
    "lm.fit(x, y)\n",
    "\n",
    "sns.regplot(x='Evapotranspiration', y='Observed', data=newDf)\n",
    "\n",
    "lm = smf.ols(formula='Observed ~ Evapotranspiration', data=newDf).fit()\n",
    "print(lm.pvalues)"
   ]
  }
 ],
 "metadata": {
  "kernelspec": {
   "display_name": "Python 3 (ipykernel)",
   "language": "python",
   "name": "python3"
  },
  "language_info": {
   "codemirror_mode": {
    "name": "ipython",
    "version": 3
   },
   "file_extension": ".py",
   "mimetype": "text/x-python",
   "name": "python",
   "nbconvert_exporter": "python",
   "pygments_lexer": "ipython3",
   "version": "3.11.0"
  }
 },
 "nbformat": 4,
 "nbformat_minor": 5
}
