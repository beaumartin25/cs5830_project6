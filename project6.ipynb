{
 "cells": [
  {
   "cell_type": "markdown",
   "id": "54e0850c-d705-4715-898c-4c397dd4917c",
   "metadata": {},
   "source": [
    "#### Project 6 Linear Regression\n",
    "## Beau Martin & Joshua Christensen\n"
   ]
  },
  {
   "cell_type": "code",
   "execution_count": null,
   "id": "b4aaae4b-7cbb-4496-9c94-d7609b9cd698",
   "metadata": {},
   "outputs": [],
   "source": []
  }
 ],
 "metadata": {
  "kernelspec": {
   "display_name": "Python 3 (ipykernel)",
   "language": "python",
   "name": "python3"
  },
  "language_info": {
   "codemirror_mode": {
    "name": "ipython",
    "version": 3
   },
   "file_extension": ".py",
   "mimetype": "text/x-python",
   "name": "python",
   "nbconvert_exporter": "python",
   "pygments_lexer": "ipython3",
   "version": "3.11.0"
  }
 },
 "nbformat": 4,
 "nbformat_minor": 5
}
